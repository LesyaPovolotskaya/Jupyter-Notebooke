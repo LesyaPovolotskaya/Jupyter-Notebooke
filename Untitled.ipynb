{
 "cells": [
  {
   "cell_type": "markdown",
   "id": "3a7104bf",
   "metadata": {},
   "source": [
    "## Задача 1 \n",
    "Оформляйте ноутбук, используя эти советы:\n",
    "\n",
    "Номер задачи - заголовок 2\n",
    "Номер подзадачи - заголовок 3\n",
    "Предоставленные наборы данных оформляйте, как код\n"
   ]
  },
  {
   "cell_type": "markdown",
   "id": "50972451",
   "metadata": {},
   "source": [
    "## Задача 2\n",
    "На складе лежат разные фрукты в разном количестве. Нужно написать функцию, которая на вход принимает любое количество названий фруктов и их количество, а возвращает общее количество фруктов на складе, при помощи использования kwargs\n"
   ]
  },
  {
   "cell_type": "markdown",
   "id": "5784d819",
   "metadata": {},
   "source": [
    "def fruit(a):\n",
    "    sum_fruit=0\n",
    "    for i in fruits.values():\n",
    "        sum_fruit+=i\n",
    "    return sum_fruit    \n",
    "\n",
    "fruits={\n",
    "    'apple':5,\n",
    "    'oranges':6,\n",
    "    'bananas':7,\n",
    "    'plums':10,\n",
    "    'peaches':4\n",
    "}\n",
    "print('Всего: ', fruit(fruits))\n",
    "    \n",
    "    "
   ]
  },
  {
   "cell_type": "markdown",
   "id": "9e3a4a57",
   "metadata": {},
   "source": [
    "## Задача 3\n",
    "Дан список с затратами на рекламу. Но в данных есть ошибки, некоторые затраты имеют отрицательную величину. Удалите такие значения из списка и посчитайте суммарные затраты [100, 125, -90, 345, 655, -1, 0, 200] Используйте list comprehensions"
   ]
  },
  {
   "cell_type": "markdown",
   "id": "a623b06c",
   "metadata": {},
   "source": [
    "a=[100, 125, -90, 345, 655, -1, 0, 200]\n",
    "\n",
    "new_a = [i for i in a if i >= 0]\n",
    "summ=sum(new_a)\n",
    "\n",
    "print('новый массив:', new_a)\n",
    "print('Общая сумма затрат:',summ)"
   ]
  },
  {
   "cell_type": "markdown",
   "id": "fae77932",
   "metadata": {},
   "source": [
    "## Задача 4\n",
    "date = ['2021-09-14', '2021-12-15', '2021-09-08', '2021-12-05', '2021-10-09', \n",
    "        '2021-09-30', '2021-12-22', '2021-11-29', '2021-12-24', '2021-11-26', \n",
    "        '2021-10-27', '2021-12-18', '2021-11-09', '2021-11-23', '2021-09-27', \n",
    "        '2021-10-02', '2021-12-27', '2021-09-20', '2021-12-13', '2021-11-01', \n",
    "        '2021-11-09', '2021-12-06', '2021-12-08', '2021-10-09', '2021-10-31', \n",
    "        '2021-09-30', '2021-11-09', '2021-12-13', '2021-10-26', '2021-12-09']\n",
    "cost = [1270, 8413, 9028, 3703, 5739, 4095, 295, 4944, 5723, 3701, \n",
    "        4471, 651, 7037, 4274, 6275, 4988, 6930, 2971, 6592, 2004, \n",
    "        2822, 519, 3406, 2732, 5015, 2008, 316, 6333, 5700, 2887]"
   ]
  },
  {
   "cell_type": "markdown",
   "id": "5b86412b",
   "metadata": {},
   "source": [
    "### Задача 4.1\n",
    "Найдите, какая выручка у компании в ноябре Используйте list comprehensions"
   ]
  },
  {
   "cell_type": "markdown",
   "id": "02ded9ab",
   "metadata": {},
   "source": [
    "def november(data1: list, data2: list) -> list:\n",
    "    \n",
    "    new_data = []\n",
    "    \n",
    "    for i in range(len(data1)-1):\n",
    "        if '-11-' in data1[i]:\n",
    "            new_data.append(data2[i])\n",
    "            \n",
    "    return new_data"
   ]
  },
  {
   "cell_type": "markdown",
   "id": "609769b3",
   "metadata": {},
   "source": [
    "print(f'В ноябре компания потратила: {sum([spend[i] for i in range(len(data)) if int(data[i].split(\"-\")[1])==11])}')"
   ]
  },
  {
   "cell_type": "markdown",
   "id": "d1d0fc97",
   "metadata": {},
   "source": [
    "### Задача 4.2\n",
    "Найдите выручку компании в зависимости от месяца Для этого напишите функцию, которая на вход принимает список с датами и список с выручкой, а на выходе словарь, где ключи - это месяцы, а значения - это выручка. Используйте аннотирование типов."
   ]
  },
  {
   "cell_type": "markdown",
   "id": "3c8256d1",
   "metadata": {},
   "source": [
    "def revenue_by_month(list01: list, list02: list) -> dict:\n",
    "    list01 = [i.split('-') for i in list01]\n",
    "    dict_of_months = {'1': 'January', '2': 'February', '3': 'March', '4': 'April', '5': 'May', '6': 'June', '7': 'July', '8': 'August', '9': 'September', '10': 'October', '11': 'November', '12': 'December'}\n",
    "    dict01 = {}\n",
    "    for i in range(1,13):\n",
    "        month = str(i)\n",
    "        revenue_in_month = sum([i[1] for i in zip(list01, list02) if i[0][1] == month])\n",
    "        if revenue_in_month > 0:  # убираем месяца с нулевым доходом\n",
    "            dict01[dict_of_months[month]] = revenue_in_month\n",
    "    return dict01"
   ]
  },
  {
   "cell_type": "markdown",
   "id": "03c91a8e",
   "metadata": {},
   "source": [
    "revenue_by_month(purchase_date, purchase_amount)"
   ]
  },
  {
   "cell_type": "code",
   "execution_count": null,
   "id": "7ce65360",
   "metadata": {},
   "outputs": [],
   "source": []
  }
 ],
 "metadata": {
  "kernelspec": {
   "display_name": "Python 3 (ipykernel)",
   "language": "python",
   "name": "python3"
  },
  "language_info": {
   "codemirror_mode": {
    "name": "ipython",
    "version": 3
   },
   "file_extension": ".py",
   "mimetype": "text/x-python",
   "name": "python",
   "nbconvert_exporter": "python",
   "pygments_lexer": "ipython3",
   "version": "3.10.9"
  }
 },
 "nbformat": 4,
 "nbformat_minor": 5
}
